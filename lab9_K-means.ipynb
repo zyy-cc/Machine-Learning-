{
 "cells": [
  {
   "cell_type": "code",
   "execution_count": 1,
   "id": "f1d5d00b",
   "metadata": {},
   "outputs": [],
   "source": [
    "import numpy as np\n",
    "from numpy.matlib import repmat\n",
    "from sklearn.preprocessing import normalize\n",
    "import matplotlib.pyplot as plt\n",
    "import cv2"
   ]
  },
  {
   "cell_type": "code",
   "execution_count": 2,
   "id": "aa733542",
   "metadata": {},
   "outputs": [],
   "source": [
    "#获得码率及尺寸\n",
    "videoCapture = cv2.VideoCapture('road_video.MOV')\n",
    "fps = videoCapture.get(cv2.CAP_PROP_FPS)\n",
    "size = (int(videoCapture.get(cv2.CAP_PROP_FRAME_WIDTH)),int(videoCapture.get(cv2.CAP_PROP_FRAME_HEIGHT)))\n",
    "#print(fps)\n",
    "#print(size)"
   ]
  },
  {
   "cell_type": "code",
   "execution_count": 3,
   "id": "d79c9151",
   "metadata": {},
   "outputs": [],
   "source": [
    "def kmeans(data, n_cl,centers,verbose=False,):\n",
    "    n_samples = data.shape[0]\n",
    "    #print(\"n_samples\".format(n_samples))\n",
    "    if centers is None:\n",
    "        centers = data[np.random.choice(range(n_samples), size=n_cl)]  \n",
    "    old_labels = np.zeros(shape = n_samples)\n",
    "    while True:\n",
    "        distances = np.zeros(shape=(n_samples, n_cl))\n",
    "        for c_idx, c in enumerate(centers):\n",
    "            distances[:, c_idx] = np.sum(np.square(data - repmat(c, n_samples, 1)), axis=1)\n",
    "        new_labels = np.argmin(distances, axis=1)\n",
    "        # re-estimate\n",
    "        for l in range(0, n_cl):\n",
    "            centers[l] = np.mean(data[new_labels == l], axis=0)\n",
    "        if verbose:\n",
    "            fig, ax = plt.subplots()\n",
    "            ax.scatter(data[:, 0], data[:, 1], c=new_labels, s=40)\n",
    "            ax.plot(centers[:, 0], centers[:, 1], 'r*', markersize=20)\n",
    "            plt.waitforbuttonpress()\n",
    "            plt.close()\n",
    "        \n",
    "        if np.all(new_labels == old_labels):\n",
    "            break\n",
    "        \n",
    "        old_labels = new_labels\n",
    "    return new_labels, centers"
   ]
  },
  {
   "cell_type": "code",
   "execution_count": 4,
   "id": "191fe2e2",
   "metadata": {},
   "outputs": [],
   "source": [
    "fourcc = cv2.VideoWriter_fourcc(*'mp4v')\n",
    "videoWriter = cv2.VideoWriter(\"output.mp4\", fourcc,(fps/10), size, isColor=True)\n",
    "videoWriter.isOpened()\n",
    "success, frame = videoCapture.read()"
   ]
  },
  {
   "cell_type": "code",
   "execution_count": 5,
   "id": "d1525d4d",
   "metadata": {},
   "outputs": [
    {
     "name": "stdout",
     "output_type": "stream",
     "text": [
      "This is 1 frame\n",
      "This is 2 frame\n",
      "This is 3 frame\n",
      "This is 4 frame\n",
      "This is 5 frame\n",
      "This is 6 frame\n",
      "This is 7 frame\n",
      "This is 8 frame\n",
      "This is 9 frame\n",
      "This is 10 frame\n",
      "This is 11 frame\n",
      "This is 12 frame\n",
      "This is 13 frame\n",
      "This is 14 frame\n",
      "This is 15 frame\n",
      "This is 16 frame\n",
      "This is 17 frame\n",
      "This is 18 frame\n",
      "This is 19 frame\n",
      "This is 20 frame\n",
      "This is 21 frame\n",
      "This is 22 frame\n",
      "This is 23 frame\n",
      "This is 24 frame\n",
      "This is 25 frame\n",
      "This is 26 frame\n",
      "This is 27 frame\n",
      "This is 28 frame\n",
      "This is 29 frame\n",
      "This is 30 frame\n",
      "This is 31 frame\n",
      "This is 32 frame\n",
      "This is 33 frame\n",
      "This is 34 frame\n",
      "This is 35 frame\n"
     ]
    }
   ],
   "source": [
    "n_cl = 8\n",
    "times = 1\n",
    "colormap = [[np.random.randint(256), np.random.randint(256), np.random.randint(256)] for _ in range(n_cl)]\n",
    "centers = None\n",
    "while success:\n",
    "    img = np.float32(frame)\n",
    "    h,w,c = img.shape\n",
    "    row_indexes = np.arange(0, h)\n",
    "    col_indexes = np.arange(0, w)\n",
    "    coordinates = np.zeros(shape=(h, w, 2))\n",
    "    coordinates[..., 0] = normalize(repmat(row_indexes, w, 1).T)\n",
    "    coordinates[..., 1] = normalize(repmat(col_indexes, h, 1))\n",
    "    data = np.concatenate((img, coordinates), axis=-1)\n",
    "    data = np.reshape(data, newshape=(w * h, 5))\n",
    "    #print(data)\n",
    "    new_labels,centers = kmeans(data=data, n_cl=n_cl,centers=centers)\n",
    "    frame = np.reshape([colormap[new_labels[i]] for i in range(len(new_labels))],(h,w,c)).astype('u1')\n",
    "    videoWriter.write(frame)\n",
    "    success, frame = videoCapture.read()\n",
    "    print(\"This is {} frame\".format(times))\n",
    "    times = times + 1\n",
    "\n",
    "videoCapture.release()\n",
    "videoWriter.release()       "
   ]
  },
  {
   "cell_type": "markdown",
   "id": "089d9337",
   "metadata": {},
   "source": [
    "# Questions:"
   ]
  },
  {
   "cell_type": "markdown",
   "id": "bd1f5674",
   "metadata": {},
   "source": [
    "(1) \n",
    "Relatively simple to implement.\n",
    "\n",
    "Guarantees convergence.\n",
    "\n",
    "Easily adapts to new examples.\n",
    "\n",
    "Generalizes to clusters of different shapes and sizes, such as elliptical clusters."
   ]
  },
  {
   "cell_type": "markdown",
   "id": "ec440b27",
   "metadata": {},
   "source": [
    "(2)\n",
    "we has to specify k (the number of clusters) in the beginning.\n",
    "\n",
    "k-means can only handle numerical data\n",
    "\n",
    "Being dependent on initial values.\n",
    "\n",
    "Clustering outliers.\n"
   ]
  },
  {
   "cell_type": "markdown",
   "id": "b60d4e08",
   "metadata": {},
   "source": [
    "(3) when there is a clear margin between each cluster."
   ]
  },
  {
   "cell_type": "markdown",
   "id": "f3eaf8a6",
   "metadata": {},
   "source": [
    "# Report"
   ]
  },
  {
   "cell_type": "markdown",
   "id": "422e808d",
   "metadata": {},
   "source": [
    "I use eight classes, and the results can classify the car, road, and people. \n",
    "When we perform the k-means, if we enter the center points into the iteration, it will be much faster."
   ]
  },
  {
   "cell_type": "code",
   "execution_count": null,
   "id": "307f322d",
   "metadata": {},
   "outputs": [],
   "source": []
  }
 ],
 "metadata": {
  "kernelspec": {
   "display_name": "Python 3",
   "language": "python",
   "name": "python3"
  },
  "language_info": {
   "codemirror_mode": {
    "name": "ipython",
    "version": 3
   },
   "file_extension": ".py",
   "mimetype": "text/x-python",
   "name": "python",
   "nbconvert_exporter": "python",
   "pygments_lexer": "ipython3",
   "version": "3.8.8"
  }
 },
 "nbformat": 4,
 "nbformat_minor": 5
}
