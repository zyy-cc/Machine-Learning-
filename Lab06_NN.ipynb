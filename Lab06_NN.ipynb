{
 "cells": [
  {
   "cell_type": "markdown",
   "id": "09bd7f91",
   "metadata": {},
   "source": [
    "# Class"
   ]
  },
  {
   "cell_type": "code",
   "execution_count": 1,
   "id": "2eef1550",
   "metadata": {},
   "outputs": [],
   "source": [
    "import torch\n",
    "import torch.nn as nn\n",
    "import torch.nn.functional as F"
   ]
  },
  {
   "cell_type": "code",
   "execution_count": 2,
   "id": "d22695c7",
   "metadata": {},
   "outputs": [
    {
     "name": "stdout",
     "output_type": "stream",
     "text": [
      "Net(\n",
      "  (conv1): Conv2d(1, 6, kernel_size=(3, 3), stride=(1, 1))\n",
      "  (conv2): Conv2d(6, 16, kernel_size=(3, 3), stride=(1, 1))\n",
      "  (fc1): Linear(in_features=576, out_features=120, bias=True)\n",
      "  (fc2): Linear(in_features=120, out_features=84, bias=True)\n",
      "  (fc3): Linear(in_features=84, out_features=10, bias=True)\n",
      ")\n"
     ]
    }
   ],
   "source": [
    "class Net(nn.Module):\n",
    "    def __init__(self):\n",
    "        #继承父类的所有属性\n",
    "        super(Net,self).__init__()\n",
    "        # 1 input image channel, 6 output channels, 3 x 3 square convolution \n",
    "        # kernel\n",
    "        self.conv1 = nn.Conv2d(1,6,3)\n",
    "        self.conv2 = nn.Conv2d(6,16,3)\n",
    "        # an affine operation: y = Wx +b\n",
    "        self.fc1 = nn.Linear(16 * 6 * 6, 120)# 6*6 from image dimension\n",
    "        self.fc2 = nn.Linear(120, 84)\n",
    "        self.fc3 = nn.Linear(84, 10)\n",
    "    def forward(self,x):\n",
    "        # Max pooling over a (2,2) window\n",
    "        x = F.max_pool2d(F.relu(self.conv1(x)),(2,2))\n",
    "        # If the size is a square you can only specify a single number\n",
    "        x = F.max_pool2d(F.relu(self.conv2(x)),2)\n",
    "        #view函数将张量x变形成一维的向量形式，总特征数并不改变，为接下来的全连接作准备。\n",
    "        x = x.view(-1, self.num_flat_features(x))\n",
    "        x = F.relu(self.fc1(x))\n",
    "        x = F.relu(self.fc2(x))\n",
    "        x = self.fc3(x)\n",
    "        return x\n",
    "    # 计算张量x的总特征量\n",
    "    def num_flat_features(self,x):\n",
    "        size = x.size()[1:] \n",
    "        # since pytorch only accept batch input which means several pictures,we only need the last three dim.\n",
    "        num_features = 1\n",
    "        for s in size:\n",
    "            num_features *= s\n",
    "        return num_features\n",
    "\n",
    "net = Net()\n",
    "print(net)        "
   ]
  },
  {
   "cell_type": "code",
   "execution_count": 3,
   "id": "ea8f1ceb",
   "metadata": {},
   "outputs": [
    {
     "name": "stdout",
     "output_type": "stream",
     "text": [
      "10\n",
      "torch.Size([6, 1, 3, 3])\n"
     ]
    }
   ],
   "source": [
    "params = list(net.parameters())\n",
    "print(len(params))\n",
    "print(params[0].size())"
   ]
  },
  {
   "cell_type": "code",
   "execution_count": 4,
   "id": "35288018",
   "metadata": {},
   "outputs": [
    {
     "name": "stdout",
     "output_type": "stream",
     "text": [
      "tensor([[ 0.1488,  0.0642,  0.0246, -0.1001,  0.1351,  0.0419,  0.1143, -0.0460,\n",
      "         -0.0221, -0.0650]], grad_fn=<AddmmBackward>)\n"
     ]
    }
   ],
   "source": [
    "input = torch.randn(1,1,32,32)\n",
    "out = net(input)\n",
    "print(out)"
   ]
  },
  {
   "cell_type": "code",
   "execution_count": 5,
   "id": "313d0a66",
   "metadata": {},
   "outputs": [],
   "source": [
    "net.zero_grad()\n",
    "out.backward(torch.randn(1,10))"
   ]
  },
  {
   "cell_type": "code",
   "execution_count": 6,
   "id": "ceb83aea",
   "metadata": {},
   "outputs": [
    {
     "name": "stdout",
     "output_type": "stream",
     "text": [
      "tensor(1.3961, grad_fn=<MseLossBackward>)\n"
     ]
    }
   ],
   "source": [
    "# compute the loss function\n",
    "output = net(input)\n",
    "target = torch.randn(10)\n",
    "target = target.view(1,-1)\n",
    "criterion = nn.MSELoss()\n",
    "\n",
    "loss = criterion(output,target)\n",
    "print(loss)"
   ]
  },
  {
   "cell_type": "code",
   "execution_count": 7,
   "id": "0b470cbb",
   "metadata": {},
   "outputs": [
    {
     "name": "stdout",
     "output_type": "stream",
     "text": [
      "conv1.bias.grad before backward\n",
      "tensor([0., 0., 0., 0., 0., 0.])\n",
      "conv1.bias.grad after backward\n",
      "tensor([ 0.0022,  0.0063, -0.0043, -0.0145, -0.0010, -0.0002])\n"
     ]
    }
   ],
   "source": [
    "# backprop\n",
    "#zeroes the gradient buffers of all parameters\n",
    "net.zero_grad()\n",
    "print(\"conv1.bias.grad before backward\")\n",
    "print(net.conv1.bias.grad)\n",
    "\n",
    "loss.backward()\n",
    "print(\"conv1.bias.grad after backward\")\n",
    "print(net.conv1.bias.grad)"
   ]
  },
  {
   "cell_type": "code",
   "execution_count": 8,
   "id": "c7d8ddd1",
   "metadata": {},
   "outputs": [],
   "source": [
    "# update the weights\n",
    "learning_rate = 0.01\n",
    "for f in net.parameters():\n",
    "    f.data.sub_(f.grad.data * learning_rate)\n",
    "# utilize the package\n",
    "import torch.optim as optim\n",
    "# create your optimizer\n",
    "optimizer = optim.SGD(net.parameters(),lr = 0.01)\n",
    "# in the training loop:\n",
    "optimizer.zero_grad()\n",
    "output = net(input)\n",
    "loss = criterion(output,target)\n",
    "loss.backward()\n",
    "optimizer.step()"
   ]
  },
  {
   "cell_type": "markdown",
   "id": "3fa46051",
   "metadata": {},
   "source": [
    "# Lab"
   ]
  },
  {
   "cell_type": "code",
   "execution_count": 9,
   "id": "c32d238e",
   "metadata": {},
   "outputs": [],
   "source": [
    "import torchvision\n",
    "import torchvision.datasets as datasets\n",
    "import torchvision.transforms as transforms"
   ]
  },
  {
   "cell_type": "code",
   "execution_count": 10,
   "id": "5e153698",
   "metadata": {},
   "outputs": [],
   "source": [
    "transform = transforms.Compose(\n",
    "    [transforms.ToTensor(),\n",
    "     transforms.Normalize((0.5,), (0.5,))]\n",
    ")"
   ]
  },
  {
   "cell_type": "code",
   "execution_count": 11,
   "id": "40737a28",
   "metadata": {},
   "outputs": [],
   "source": [
    "# set the parameters\n",
    "batch_size = 8\n",
    "epoch = 2\n",
    "lr = 0.01"
   ]
  },
  {
   "cell_type": "code",
   "execution_count": 12,
   "id": "0ada9eb4",
   "metadata": {},
   "outputs": [],
   "source": [
    "train_data = datasets.MNIST(root = './data',train = True,download = True,transform =transform)\n",
    "test_data = datasets.MNIST(root = './data',train = False,download = True,transform =transform)"
   ]
  },
  {
   "cell_type": "code",
   "execution_count": 13,
   "id": "2cc7550a",
   "metadata": {},
   "outputs": [
    {
     "data": {
      "image/png": "[encoded data removed]",
      "text/plain": [
       "<Figure size 432x288 with 1 Axes>"
      ]
     },
     "metadata": {
      "needs_background": "light"
     },
     "output_type": "display_data"
    },
    {
     "name": "stdout",
     "output_type": "stream",
     "text": [
      "5\n"
     ]
    }
   ],
   "source": [
    "# 60000,28,28\n",
    "#print(train_data.data.size())\n",
    "import matplotlib.pyplot as plt\n",
    "\n",
    "for i in range(1):\n",
    "    plt.imshow(train_data.data[i].numpy(),cmap='gray')\n",
    "    plt.show()\n",
    "    print(train_data.targets[i].item())"
   ]
  },
  {
   "cell_type": "code",
   "execution_count": 14,
   "id": "fbf8417b",
   "metadata": {},
   "outputs": [],
   "source": [
    "# dataloader\n",
    "trainloader = torch.utils.data.DataLoader(train_data,batch_size = batch_size,shuffle = True, num_workers = 2)\n",
    "testloader = torch.utils.data.DataLoader(test_data,batch_size = batch_size,shuffle = False, num_workers = 2)"
   ]
  },
  {
   "cell_type": "code",
   "execution_count": 15,
   "id": "ccdbf0a4",
   "metadata": {},
   "outputs": [
    {
     "name": "stdout",
     "output_type": "stream",
     "text": [
      "Net(\n",
      "  (conv1): Conv2d(1, 32, kernel_size=(5, 5), stride=(1, 1))\n",
      "  (conv2): Conv2d(32, 32, kernel_size=(5, 5), stride=(1, 1))\n",
      "  (conv3): Conv2d(32, 64, kernel_size=(5, 5), stride=(1, 1))\n",
      "  (fc1): Linear(in_features=576, out_features=256, bias=True)\n",
      "  (fc2): Linear(in_features=256, out_features=10, bias=True)\n",
      ")\n"
     ]
    }
   ],
   "source": [
    "class Net(nn.Module):\n",
    "    def __init__(self):\n",
    "        super(Net, self).__init__()\n",
    "        self.conv1 = nn.Conv2d(1, 32, kernel_size=5)\n",
    "        self.conv2 = nn.Conv2d(32, 32, kernel_size=5)\n",
    "        self.conv3 = nn.Conv2d(32,64, kernel_size=5)\n",
    "        self.fc1 = nn.Linear(3*3*64, 256)\n",
    "        self.fc2 = nn.Linear(256, 10)\n",
    "\n",
    "    def forward(self, x):\n",
    "        # Max pooling over a (2,2) window\n",
    "        x = F.relu(self.conv1(x))\n",
    "        x = F.relu(F.max_pool2d(self.conv2(x), 2))\n",
    "        x = F.dropout(x, p=0.5, training=self.training)\n",
    "        x = F.relu(F.max_pool2d(self.conv3(x),2))\n",
    "        x = F.dropout(x, p=0.5, training=self.training)\n",
    "        x = x.view(-1,3*3*64 )\n",
    "        x = F.relu(self.fc1(x))\n",
    "        x = F.dropout(x, training=self.training)\n",
    "        x = self.fc2(x)\n",
    "        return F.log_softmax(x, dim=1)\n",
    "net = Net()    \n",
    "print(net)"
   ]
  },
  {
   "cell_type": "code",
   "execution_count": 16,
   "id": "53ba0315",
   "metadata": {},
   "outputs": [
    {
     "name": "stdout",
     "output_type": "stream",
     "text": [
      "Requirement already satisfied: torchsummary in d:\\anaconda3\\lib\\site-packages (1.5.1)\n",
      "Note: you may need to restart the kernel to use updated packages.\n"
     ]
    }
   ],
   "source": [
    "pip install torchsummary"
   ]
  },
  {
   "cell_type": "code",
   "execution_count": 17,
   "id": "8a53375d",
   "metadata": {},
   "outputs": [
    {
     "name": "stdout",
     "output_type": "stream",
     "text": [
      "----------------------------------------------------------------\n",
      "        Layer (type)               Output Shape         Param #\n",
      "================================================================\n",
      "            Conv2d-1           [-1, 32, 24, 24]             832\n",
      "            Conv2d-2           [-1, 32, 20, 20]          25,632\n",
      "            Conv2d-3             [-1, 64, 6, 6]          51,264\n",
      "            Linear-4                  [-1, 256]         147,712\n",
      "            Linear-5                   [-1, 10]           2,570\n",
      "================================================================\n",
      "Total params: 228,010\n",
      "Trainable params: 228,010\n",
      "Non-trainable params: 0\n",
      "----------------------------------------------------------------\n",
      "Input size (MB): 0.00\n",
      "Forward/backward pass size (MB): 0.26\n",
      "Params size (MB): 0.87\n",
      "Estimated Total Size (MB): 1.13\n",
      "----------------------------------------------------------------\n"
     ]
    }
   ],
   "source": [
    "from torchsummary import summary\n",
    "model = Net()\n",
    "if torch.cuda.is_available():\n",
    "    model.cuda()\n",
    "summary(model, input_size=(1,28,28))"
   ]
  },
  {
   "cell_type": "code",
   "execution_count": 18,
   "id": "825e2208",
   "metadata": {},
   "outputs": [
    {
     "name": "stdout",
     "output_type": "stream",
     "text": [
      "Finish training\n"
     ]
    }
   ],
   "source": [
    "net.cuda()\n",
    "# loss\n",
    "criterion = nn.CrossEntropyLoss()\n",
    "optimizer = optim.SGD(net.parameters(),lr = lr)\n",
    "for e in range(epoch):\n",
    "    for j, data in enumerate(trainloader):\n",
    "        inputs,labels = data\n",
    "        train_x = inputs.cuda()\n",
    "        train_y = labels.cuda()        \n",
    "        optimizer.zero_grad()\n",
    "        outputs = net(train_x)\n",
    "        loss = criterion(outputs,train_y)\n",
    "        loss.backward()\n",
    "        optimizer.step() \n",
    "print(\"Finish training\")"
   ]
  },
  {
   "cell_type": "code",
   "execution_count": 19,
   "id": "0c6eca5e",
   "metadata": {},
   "outputs": [],
   "source": [
    "PATH = './mnist_net.pth'\n",
    "torch.save(net.state_dict(),PATH)"
   ]
  },
  {
   "cell_type": "code",
   "execution_count": 20,
   "id": "edbe6dd5",
   "metadata": {},
   "outputs": [
    {
     "name": "stdout",
     "output_type": "stream",
     "text": [
      "Accuracy: 0.9689\n"
     ]
    }
   ],
   "source": [
    "correct = 0 \n",
    "total = 0\n",
    "with torch.no_grad():\n",
    "    for data in testloader:\n",
    "        images,labels = data\n",
    "        test_x = images.cuda()\n",
    "        test_y = labels.cuda()\n",
    "        outputs = net(test_x)\n",
    "        _,predicted = torch.max(outputs.data,1)\n",
    "        pred_y = predicted.cpu()\n",
    "        total += labels.size(0)\n",
    "        correct += (pred_y == labels).sum().item()\n",
    "        accuracy = correct/total\n",
    "print(\"Accuracy: {}\".format(accuracy))       "
   ]
  },
  {
   "cell_type": "code",
   "execution_count": 21,
   "id": "27fe6e97",
   "metadata": {},
   "outputs": [
    {
     "name": "stdout",
     "output_type": "stream",
     "text": [
      "Accuracy for class0 is: 0.988\n",
      "Accuracy for class1 is: 0.989\n",
      "Accuracy for class2 is: 0.966\n",
      "Accuracy for class3 is: 0.948\n",
      "Accuracy for class4 is: 0.963\n",
      "Accuracy for class5 is: 0.978\n",
      "Accuracy for class6 is: 0.982\n",
      "Accuracy for class7 is: 0.970\n",
      "Accuracy for class8 is: 0.940\n",
      "Accuracy for class9 is: 0.955\n"
     ]
    }
   ],
   "source": [
    "# prepare to count predictions for each class\n",
    "classes = ('0', '1', '2', '3','4', '5', '6', '7', '8', '9')\n",
    "correct_pred = {classname: 0 for classname in classes}\n",
    "total_pred = {classname: 0 for classname in classes}\n",
    "with torch.no_grad():\n",
    "    for data in testloader:\n",
    "        images,labels = data\n",
    "        test_x = images.cuda()\n",
    "        test_y = labels.cuda()\n",
    "        outputs = net(test_x)\n",
    "        _,predicted = torch.max(outputs.data,1)\n",
    "        pred_y = predicted.cpu()\n",
    "        # collect the correct predictions for each class\n",
    "        for label, prediction in zip(labels,pred_y):\n",
    "            if label == prediction:\n",
    "                correct_pred[classes[label]] += 1\n",
    "            total_pred[classes[label]] +=1\n",
    "for classtype, correct_count in correct_pred.items():\n",
    "    accuracy = correct_count/total_pred[classtype]\n",
    "    print(\"Accuracy for class{} is: {:.3f}\".format(classtype,accuracy))  "
   ]
  },
  {
   "cell_type": "markdown",
   "id": "55eaeec3",
   "metadata": {},
   "source": [
    "The classification performance is well."
   ]
  },
  {
   "cell_type": "markdown",
   "id": "ddda6197",
   "metadata": {},
   "source": [
    "# Questions"
   ]
  },
  {
   "cell_type": "markdown",
   "id": "b96f5cf5",
   "metadata": {},
   "source": [
    "(1) yes, they can be used for unsupervised clustering and data dimension reduction because we just need to train the parameters. The unsupervised learning in convolutional neural networks is employed via autoencoders.\n",
    "\n",
    "(2)\n",
    "a. Neural networks are flexible and can be used for both regression and classification problems. Any data which can be made numeric can be used in the model, as neural network is a mathematical model with approximation functions.\n",
    "\n",
    "b. Neural networks are good to model with nonlinear data with large number of inputs; for example, images. It is reliable in an approach of tasks involving many features. It works by splitting the problem of classification into a layered network of simpler elements.\n",
    "\n",
    "c. Neural networks can be trained with any number of inputs and layers.\n",
    "\n",
    "d. Once trained, the predictions are pretty fast.\n",
    "\n",
    "e. Neural networks work best with more data points.\n",
    "\n",
    "(3)\n",
    "a. Neural networks are black boxes, meaning we cannot know how much each independent variable is influencing the dependent variables.\n",
    "\n",
    "b. It is computationally very expensive and time consuming to train with traditional CPUs.\n",
    "\n",
    "c. Neural networks depend a lot on training data. This leads to the problem of over-fitting and generalization. The mode relies more on the training data and may be tuned to the data.\n",
    "\n",
    "(4) If the data is big enough it can make neural network a good candidate."
   ]
  },
  {
   "cell_type": "code",
   "execution_count": null,
   "id": "63787a3e",
   "metadata": {},
   "outputs": [],
   "source": []
  }
 ],
 "metadata": {
  "kernelspec": {
   "display_name": "Python 3",
   "language": "python",
   "name": "python3"
  },
  "language_info": {
   "codemirror_mode": {
    "name": "ipython",
    "version": 3
   },
   "file_extension": ".py",
   "mimetype": "text/x-python",
   "name": "python",
   "nbconvert_exporter": "python",
   "pygments_lexer": "ipython3",
   "version": "3.8.8"
  }
 },
 "nbformat": 4,
 "nbformat_minor": 5
}
