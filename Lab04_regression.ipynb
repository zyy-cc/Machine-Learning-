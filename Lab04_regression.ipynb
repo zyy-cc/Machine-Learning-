{
 "cells": [
  {
   "cell_type": "code",
   "execution_count": 1,
   "id": "dddcf220",
   "metadata": {},
   "outputs": [],
   "source": [
    "from sklearn import datasets\n",
    "import matplotlib.pyplot as plt\n",
    "import numpy as np\n",
    "from sklearn.model_selection import train_test_split\n",
    "from sklearn.linear_model import LinearRegression\n",
    "from sklearn.pipeline import Pipeline\n",
    "from sklearn.preprocessing import StandardScaler\n",
    "from sklearn.preprocessing import PolynomialFeatures\n",
    "import mlxtend\n",
    "from mlxtend.evaluate import bias_variance_decomp"
   ]
  },
  {
   "cell_type": "code",
   "execution_count": 5,
   "id": "4ea09c9c",
   "metadata": {},
   "outputs": [],
   "source": [
    "#boston = datasets.load_boston()\n",
    "#print(boston.DESCR)\n",
    "#x = boston.data[:,5]\n",
    "#y = boston.target\n",
    "#plt.scatter(x,y)\n",
    "#plt.show()\n",
    "#x = x[y < 50.0]\n",
    "#y = y[y < 50.0]\n",
    "#plt.scatter(x,y)\n",
    "#plt.show()\n",
    "# use full features\n",
    "#X = boston.data\n",
    "#y = boston.target\n",
    "#X = X[y < 50.0]\n",
    "#y = y[y < 50.0]\n",
    "#print(X.shape)\n",
    "#X_train, X_test, y_train, y_test = train_test_split(X,y)\n",
    "#from sklearn.linear_model import LinearRegression\n",
    "#lin_reg = LinearRegression()\n",
    "#lin_reg.fit(X_train, y_train)\n",
    "# Make a prediction\n",
    "#y_0_hat = lin_reg.predict(X_test[0].reshape(1,-1))\n",
    "#y_0_hat\n",
    "# the real target value is \n",
    "#y_test[0]\n",
    "#lin_reg.coef_\n",
    "#lin_reg.intercept_\n",
    "#lin_reg.score(X_test, y_test)"
   ]
  },
  {
   "cell_type": "code",
   "execution_count": 6,
   "id": "24a6afed",
   "metadata": {},
   "outputs": [],
   "source": [
    "#poly_reg = Pipeline([(\"poly\",PolynomialFeatures(degree = 2)),\n",
    " #                    (\"std_scaler\", StandardScaler()),\n",
    " #                    (\"lin_reg\",LinearRegression())    \n",
    "#])\n",
    "#poly_reg.fit(X_train,y_train)\n",
    "#poly_reg.score(X_test, y_test)"
   ]
  },
  {
   "cell_type": "code",
   "execution_count": 2,
   "id": "0f4957b3",
   "metadata": {},
   "outputs": [
    {
     "name": "stdout",
     "output_type": "stream",
     "text": [
      ".. _california_housing_dataset:\n",
      "\n",
      "California Housing dataset\n",
      "--------------------------\n",
      "\n",
      "**Data Set Characteristics:**\n",
      "\n",
      "    :Number of Instances: 20640\n",
      "\n",
      "    :Number of Attributes: 8 numeric, predictive attributes and the target\n",
      "\n",
      "    :Attribute Information:\n",
      "        - MedInc        median income in block\n",
      "        - HouseAge      median house age in block\n",
      "        - AveRooms      average number of rooms\n",
      "        - AveBedrms     average number of bedrooms\n",
      "        - Population    block population\n",
      "        - AveOccup      average house occupancy\n",
      "        - Latitude      house block latitude\n",
      "        - Longitude     house block longitude\n",
      "\n",
      "    :Missing Attribute Values: None\n",
      "\n",
      "This dataset was obtained from the StatLib repository.\n",
      "http://lib.stat.cmu.edu/datasets/\n",
      "\n",
      "The target variable is the median house value for California districts.\n",
      "\n",
      "This dataset was derived from the 1990 U.S. census, using one row per census\n",
      "block group. A block group is the smallest geographical unit for which the U.S.\n",
      "Census Bureau publishes sample data (a block group typically has a population\n",
      "of 600 to 3,000 people).\n",
      "\n",
      "It can be downloaded/loaded using the\n",
      ":func:`sklearn.datasets.fetch_california_housing` function.\n",
      "\n",
      ".. topic:: References\n",
      "\n",
      "    - Pace, R. Kelley and Ronald Barry, Sparse Spatial Autoregressions,\n",
      "      Statistics and Probability Letters, 33 (1997) 291-297\n",
      "\n"
     ]
    }
   ],
   "source": [
    "# lab exercises\n",
    "california = datasets.fetch_california_housing()\n",
    "print(california.DESCR)"
   ]
  },
  {
   "cell_type": "code",
   "execution_count": 25,
   "id": "ad40b89e",
   "metadata": {},
   "outputs": [],
   "source": [
    "X = california.data\n",
    "y = california.target\n",
    "x_one, x_test, y_one, y_test = train_test_split(X, y ,test_size = 0.2)\n",
    "x_train, x_validation,y_train,y_validation = train_test_split(x_one, y_one ,test_size = 0.4)"
   ]
  },
  {
   "cell_type": "code",
   "execution_count": 37,
   "id": "8cf2c6dd",
   "metadata": {},
   "outputs": [
    {
     "name": "stdout",
     "output_type": "stream",
     "text": [
      "For linear regression, bias: 0.5208892522814705 variance: 0.0007483700857344233\n"
     ]
    }
   ],
   "source": [
    "# linear regression\n",
    "lr_reg = Pipeline([(\"std_scaler\", StandardScaler()), \n",
    "                     (\"lin_reg\",LinearRegression()),                                             \n",
    "])\n",
    "mse,bias, var = bias_variance_decomp(lin_reg, x_train, y_train, x_validation, y_validation,loss='mse', num_rounds=10, random_seed=1)\n",
    "print(\"For linear regression, bias: \"+ str(bias) + \" variance: \"+ str(var))"
   ]
  },
  {
   "cell_type": "code",
   "execution_count": 38,
   "id": "734999c9",
   "metadata": {},
   "outputs": [
    {
     "name": "stdout",
     "output_type": "stream",
     "text": [
      "For polynomial regression, bias: 0.7722403780727738 variance: 0.11364054983055905\n"
     ]
    }
   ],
   "source": [
    "# polynomial regression\n",
    "poly_reg = Pipeline([(\"poly\",PolynomialFeatures(degree = 2)),\n",
    "                     (\"std_scaler\", StandardScaler()),\n",
    "                     (\"lin_reg\",LinearRegression())    \n",
    "])\n",
    "mse2, bias2, var2 = bias_variance_decomp(poly_reg, x_train, y_train, x_validation, y_validation,loss = 'mse', num_rounds = 10,random_seed=1)\n",
    "print(\"For polynomial regression, bias: \"+ str(bias2) + \" variance: \"+ str(var2))"
   ]
  },
  {
   "cell_type": "code",
   "execution_count": 36,
   "id": "4aae9149",
   "metadata": {},
   "outputs": [
    {
     "name": "stdout",
     "output_type": "stream",
     "text": [
      "For gaussianprocess, bias: 5.368752445100022 variance: 0.0112642320223845\n"
     ]
    }
   ],
   "source": [
    "# GaussianProcessRegressor\n",
    "from sklearn.gaussian_process import GaussianProcessRegressor\n",
    "gpr = GaussianProcessRegressor()\n",
    "mse3, bias3, var3 = bias_variance_decomp(gpr, x_train, y_train, x_validation, y_validation,loss = 'mse', num_rounds = 10,random_seed=1)\n",
    "print(\"For gaussianprocess, bias: \"+ str(bias3) + \" variance: \"+ str(var3))"
   ]
  },
  {
   "cell_type": "markdown",
   "id": "258b3365",
   "metadata": {},
   "source": [
    "It seems linear regression performs best, so we use it to predict"
   ]
  },
  {
   "cell_type": "code",
   "execution_count": 40,
   "id": "8df58b78",
   "metadata": {},
   "outputs": [
    {
     "name": "stdout",
     "output_type": "stream",
     "text": [
      "R^2:0.595247271159062\n"
     ]
    }
   ],
   "source": [
    "from sklearn.metrics import mean_squared_error,r2_score\n",
    "# predict\n",
    "lr_reg = Pipeline([(\"std_scaler\", StandardScaler()), \n",
    "                     (\"lin_reg\",LinearRegression()),                                             \n",
    "])\n",
    "lr_reg.fit(x_one,y_one)\n",
    "y_pred = lr_reg.predict(x_test)\n",
    "score = r2_score(y_test, y_pred)\n",
    "print(\"R^2:\"+str(score))"
   ]
  },
  {
   "cell_type": "markdown",
   "id": "589656a2",
   "metadata": {},
   "source": [
    "Questions:\n",
    "(1) regression method can be used to determine the relationship between profit and other factors(like the passenger flow volume, business hours and so on)."
   ]
  },
  {
   "cell_type": "markdown",
   "id": "05151fe5",
   "metadata": {},
   "source": [
    "(2) It is simple and convenient."
   ]
  },
  {
   "cell_type": "markdown",
   "id": "367b2922",
   "metadata": {},
   "source": [
    "(3) It is inefficient if it is nonlinear and it composes of lots of linear functions."
   ]
  },
  {
   "cell_type": "markdown",
   "id": "a38f89ac",
   "metadata": {},
   "source": [
    "(4)If the dependent variable is nearly linear in the scatter figure, we can consider use the linear regression."
   ]
  }
 ],
 "metadata": {
  "kernelspec": {
   "display_name": "Python 3",
   "language": "python",
   "name": "python3"
  },
  "language_info": {
   "codemirror_mode": {
    "name": "ipython",
    "version": 3
   },
   "file_extension": ".py",
   "mimetype": "text/x-python",
   "name": "python",
   "nbconvert_exporter": "python",
   "pygments_lexer": "ipython3",
   "version": "3.8.8"
  }
 },
 "nbformat": 4,
 "nbformat_minor": 5
}
